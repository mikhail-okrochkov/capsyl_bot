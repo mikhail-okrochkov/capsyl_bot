{
 "cells": [
  {
   "cell_type": "code",
   "execution_count": null,
   "id": "b82b6eae",
   "metadata": {},
   "outputs": [
    {
     "name": "stderr",
     "output_type": "stream",
     "text": [
      "/home/starfury/projects/innovation_jam_2025/.venv/lib/python3.12/site-packages/tqdm/auto.py:21: TqdmWarning: IProgress not found. Please update jupyter and ipywidgets. See https://ipywidgets.readthedocs.io/en/stable/user_install.html\n",
      "  from .autonotebook import tqdm as notebook_tqdm\n"
     ]
    }
   ],
   "source": [
    "import torch\n",
    "import clip\n",
    "from PIL import Image\n",
    "import numpy as np\n",
    "import os\n",
    "import pandas as pd\n",
    "from transformers import BlipProcessor, BlipForConditionalGeneration\n",
    "import shutil"
   ]
  },
  {
   "cell_type": "code",
   "execution_count": 3,
   "id": "8903041a",
   "metadata": {},
   "outputs": [],
   "source": [
    "device = \"cuda\" if torch.cuda.is_available() else \"cpu\"\n",
    "#model, preprocess = clip.load(\"ViT-B/16\", device=device)\n",
    "model, preprocess = clip.load(\"ViT-L/14@336px\", device=device)"
   ]
  },
  {
   "cell_type": "code",
   "execution_count": null,
   "id": "58947146",
   "metadata": {},
   "outputs": [],
   "source": [
    "def generate_clip_embeddings(df, root_dir = \"/mnt/e/Google_Photos/InnoJam_Photos\"):\n",
    "    \"\"\"\n",
    "    Generate CLIP embeddings for photos listed in a DataFrame.\n",
    "    \n",
    "    Args:\n",
    "        df (pd.DataFrame): must contain 'photo_name' column.\n",
    "        folder_path (str): folder where photos are stored.\n",
    "    \n",
    "    Returns:\n",
    "        pd.DataFrame: original df + 'clip_embedding' column (list of floats).\n",
    "    \"\"\"\n",
    "    embeddings = []\n",
    "    \n",
    "    for _, row in df.iterrows():\n",
    "        photo_file = os.path.join(root_dir, row['photo_name'])\n",
    "        \n",
    "        if not os.path.exists(photo_file):\n",
    "            print(f\"⚠️ File not found: {photo_file}\")\n",
    "            embeddings.append(None)\n",
    "            continue\n",
    "        \n",
    "        try:\n",
    "            image = preprocess(Image.open(photo_file)).unsqueeze(0).to(device)\n",
    "            with torch.no_grad():\n",
    "                image_features = model.encode_image(image)\n",
    "                # Normalize to unit vector\n",
    "                image_features /= image_features.norm(dim=-1, keepdim=True)\n",
    "                embeddings.append(image_features.cpu().numpy().tolist()[0])\n",
    "        except Exception as e:\n",
    "            print(f\"❌ Error processing {photo_file}: {e}\")\n",
    "            embeddings.append(None)\n",
    "\n",
    "    df[\"clip_embedding\"] = embeddings\n",
    "    return df\n",
    "\n",
    "\n",
    "def build_metadata_text(row):\n",
    "    parts = []\n",
    "\n",
    "    # location\n",
    "    if \"city\" in row and pd.notna(row[\"city\"]):\n",
    "        parts.append(f\"in {row['city']}\")\n",
    "    if \"country\" in row and pd.notna(row[\"country\"]):\n",
    "        parts.append(f\"in {row['country']}\")\n",
    "\n",
    "    # people (list or single string)\n",
    "    if \"names_list\" in row and pd.notna(row[\"names_list\"]):\n",
    "        people_val = row[\"names_list\"]\n",
    "        if isinstance(people_val, list):  # already a Python list\n",
    "            if len(people_val) > 0:\n",
    "                if len(people_val) == 1:\n",
    "                    parts.append(f\"with {people_val[0]}\")\n",
    "                else:\n",
    "                    people_str = \", \".join(people_val[:-1]) + \" and \" + people_val[-1]\n",
    "                    parts.append(f\"with {people_str}\")\n",
    "            else:\n",
    "                parts.append(\"\")\n",
    "        else:\n",
    "            # could be string like \"['Alice','Bob']\" → try to parse\n",
    "            import ast\n",
    "            try:\n",
    "                parsed = ast.literal_eval(people_val)\n",
    "                if isinstance(parsed, list) and len(parsed) > 0:\n",
    "                    if isinstance(parsed, list) and parsed:\n",
    "                        if len(parsed) == 1:\n",
    "                            parts.append(f\"with {parsed[0]}\")\n",
    "                        else:\n",
    "                            people_str = \", \".join(parsed[:-1]) + \" and \" + parsed[-1]\n",
    "                            parts.append(f\"with {people_str}\")\n",
    "                    else:\n",
    "                        parts.append(f\"with {people_val}\")\n",
    "            except Exception:\n",
    "                parts.append(f\"with {people_val}\")\n",
    "\n",
    "    return \"Photo \" + \" \".join(parts) if parts else \"Photo\""
   ]
  },
  {
   "cell_type": "code",
   "execution_count": 4,
   "id": "44b5d57a",
   "metadata": {},
   "outputs": [],
   "source": [
    "df_in = pd.read_excel(\"../data/google_photos_metadata_with_location.xlsx\")"
   ]
  },
  {
   "cell_type": "code",
   "execution_count": null,
   "id": "473ce023",
   "metadata": {},
   "outputs": [],
   "source": [
    "# generate clip image and metadata embeddings\n",
    "\n",
    "df_2 = generate_clip_embeddings(df_in)\n",
    "df_2[\"metadata_text\"] = df_2.apply(build_metadata_text, axis=1)\n",
    "texts = df_2[\"metadata_text\"].tolist()\n",
    "\n",
    "# Tokenize and encode in batches to avoid GPU memory issues\n",
    "batch_size = 64\n",
    "all_embeddings = []\n",
    "\n",
    "for i in range(0, len(texts), batch_size):\n",
    "    batch_texts = texts[i:i+batch_size]\n",
    "    text_tokens = clip.tokenize(batch_texts).to(device)\n",
    "    with torch.no_grad():\n",
    "        text_features = model.encode_text(text_tokens)\n",
    "        text_features /= text_features.norm(dim=-1, keepdim=True)  # normalize\n",
    "        all_embeddings.append(text_features.cpu().numpy())\n",
    "\n",
    "# Stack into single numpy array\n",
    "metadata_embeddings = np.vstack(all_embeddings)\n",
    "\n",
    "# Add back to DataFrame\n",
    "df_2[\"metadata_embedding\"] = list(metadata_embeddings)\n",
    "\n",
    "metadata_embeddings = np.vstack(df_2[\"metadata_embedding\"].to_numpy())\n",
    "image_embeddings = np.vstack(df_2[\"clip_embedding\"].to_numpy())\n",
    "\n",
    "np.save(\"../data/metadata_embeddings_l14_336.npy\", metadata_embeddings)\n",
    "np.save(\"../data/image_embeddings_l14_336.npy\", image_embeddings)"
   ]
  },
  {
   "cell_type": "code",
   "execution_count": null,
   "id": "f7368560",
   "metadata": {},
   "outputs": [],
   "source": []
  },
  {
   "cell_type": "code",
   "execution_count": null,
   "id": "649cf199",
   "metadata": {},
   "outputs": [],
   "source": []
  }
 ],
 "metadata": {
  "kernelspec": {
   "display_name": ".venv",
   "language": "python",
   "name": "python3"
  },
  "language_info": {
   "codemirror_mode": {
    "name": "ipython",
    "version": 3
   },
   "file_extension": ".py",
   "mimetype": "text/x-python",
   "name": "python",
   "nbconvert_exporter": "python",
   "pygments_lexer": "ipython3",
   "version": "3.12.9"
  }
 },
 "nbformat": 4,
 "nbformat_minor": 5
}
